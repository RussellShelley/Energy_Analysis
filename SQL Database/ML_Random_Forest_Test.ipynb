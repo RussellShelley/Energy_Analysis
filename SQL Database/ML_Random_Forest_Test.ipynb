{
 "cells": [
  {
   "cell_type": "code",
   "execution_count": 1,
   "metadata": {},
   "outputs": [],
   "source": [
    "import pandas as pd\n",
    "from configparser import ConfigParser\n",
    "import psycopg2\n",
    "import pandas.io.sql as sqlio\n",
    "from sqlalchemy import create_engine\n",
    "import numpy as np"
   ]
  },
  {
   "cell_type": "code",
   "execution_count": 2,
   "metadata": {},
   "outputs": [
    {
     "name": "stdout",
     "output_type": "stream",
     "text": [
      "Connecting to the PostgreSQL database...\n",
      "Connection successful\n"
     ]
    }
   ],
   "source": [
    "from config import password\n",
    "\n",
    "param_dic={\n",
    "    \"host\": \"localhost\",\n",
    "    \"database\": \"Energy_Analysis\",\n",
    "    \"user\" : \"postgres\",\n",
    "    \"password\" : password\n",
    "}\n",
    "\n",
    "def connect(params_dic):\n",
    "    \"\"\" Connect to the PostgreSQL database server \"\"\"\n",
    "    conn = None\n",
    "    try:\n",
    "        # connect to the PostgreSQL server\n",
    "        print('Connecting to the PostgreSQL database...')\n",
    "        conn = psycopg2.connect(**params_dic)\n",
    "    except (Exception, psycopg2.DatabaseError) as error:\n",
    "        print(error)\n",
    "        sys.exit(1) \n",
    "    print(\"Connection successful\")\n",
    "    return conn\n",
    "\n",
    "conn = connect(param_dic)"
   ]
  },
  {
   "cell_type": "code",
   "execution_count": 7,
   "metadata": {},
   "outputs": [
    {
     "data": {
      "text/html": [
       "<div>\n",
       "<style scoped>\n",
       "    .dataframe tbody tr th:only-of-type {\n",
       "        vertical-align: middle;\n",
       "    }\n",
       "\n",
       "    .dataframe tbody tr th {\n",
       "        vertical-align: top;\n",
       "    }\n",
       "\n",
       "    .dataframe thead th {\n",
       "        text-align: right;\n",
       "    }\n",
       "</style>\n",
       "<table border=\"1\" class=\"dataframe\">\n",
       "  <thead>\n",
       "    <tr style=\"text-align: right;\">\n",
       "      <th></th>\n",
       "      <th>sampno</th>\n",
       "      <th>gender</th>\n",
       "      <th>employment</th>\n",
       "      <th>student</th>\n",
       "      <th>education</th>\n",
       "      <th>drive_freq</th>\n",
       "      <th>transit_freq</th>\n",
       "      <th>tnc_freq</th>\n",
       "      <th>job_type</th>\n",
       "      <th>work_mode</th>\n",
       "      <th>...</th>\n",
       "      <th>autonomous_att_8</th>\n",
       "      <th>autonomous_hhveh</th>\n",
       "      <th>autonomous_rideshare</th>\n",
       "      <th>autonomous_pooled</th>\n",
       "      <th>autonomous_pref</th>\n",
       "      <th>housing</th>\n",
       "      <th>housing_1_8_x</th>\n",
       "      <th>solar</th>\n",
       "      <th>solar_future</th>\n",
       "      <th>income</th>\n",
       "    </tr>\n",
       "  </thead>\n",
       "  <tbody>\n",
       "    <tr>\n",
       "      <th>0</th>\n",
       "      <td>190001</td>\n",
       "      <td>1</td>\n",
       "      <td>4</td>\n",
       "      <td>4</td>\n",
       "      <td>6</td>\n",
       "      <td>3</td>\n",
       "      <td>0</td>\n",
       "      <td>0</td>\n",
       "      <td></td>\n",
       "      <td></td>\n",
       "      <td>...</td>\n",
       "      <td>4</td>\n",
       "      <td>2</td>\n",
       "      <td>2</td>\n",
       "      <td>1</td>\n",
       "      <td>1</td>\n",
       "      <td>2</td>\n",
       "      <td></td>\n",
       "      <td>2</td>\n",
       "      <td>2</td>\n",
       "      <td>6</td>\n",
       "    </tr>\n",
       "    <tr>\n",
       "      <th>1</th>\n",
       "      <td>190003</td>\n",
       "      <td>2</td>\n",
       "      <td>4</td>\n",
       "      <td>4</td>\n",
       "      <td>8</td>\n",
       "      <td>1</td>\n",
       "      <td>0</td>\n",
       "      <td>0</td>\n",
       "      <td></td>\n",
       "      <td></td>\n",
       "      <td>...</td>\n",
       "      <td>1</td>\n",
       "      <td>3</td>\n",
       "      <td>1</td>\n",
       "      <td>4</td>\n",
       "      <td>1</td>\n",
       "      <td>1</td>\n",
       "      <td></td>\n",
       "      <td>2</td>\n",
       "      <td>2</td>\n",
       "      <td>5</td>\n",
       "    </tr>\n",
       "    <tr>\n",
       "      <th>2</th>\n",
       "      <td>190002</td>\n",
       "      <td>2</td>\n",
       "      <td>4</td>\n",
       "      <td>4</td>\n",
       "      <td>1</td>\n",
       "      <td></td>\n",
       "      <td>0</td>\n",
       "      <td>0</td>\n",
       "      <td></td>\n",
       "      <td></td>\n",
       "      <td>...</td>\n",
       "      <td>2</td>\n",
       "      <td>1</td>\n",
       "      <td></td>\n",
       "      <td>2</td>\n",
       "      <td>1</td>\n",
       "      <td>1</td>\n",
       "      <td></td>\n",
       "      <td>2</td>\n",
       "      <td>2</td>\n",
       "      <td>3</td>\n",
       "    </tr>\n",
       "    <tr>\n",
       "      <th>3</th>\n",
       "      <td>190005</td>\n",
       "      <td>1</td>\n",
       "      <td>4</td>\n",
       "      <td>4</td>\n",
       "      <td>6</td>\n",
       "      <td>2</td>\n",
       "      <td>0</td>\n",
       "      <td>0</td>\n",
       "      <td></td>\n",
       "      <td></td>\n",
       "      <td>...</td>\n",
       "      <td>3</td>\n",
       "      <td>2</td>\n",
       "      <td>2</td>\n",
       "      <td>3</td>\n",
       "      <td>2</td>\n",
       "      <td>1</td>\n",
       "      <td></td>\n",
       "      <td>2</td>\n",
       "      <td>2</td>\n",
       "      <td>7</td>\n",
       "    </tr>\n",
       "    <tr>\n",
       "      <th>4</th>\n",
       "      <td>190002</td>\n",
       "      <td>1</td>\n",
       "      <td>1</td>\n",
       "      <td>4</td>\n",
       "      <td>2</td>\n",
       "      <td>1</td>\n",
       "      <td>0</td>\n",
       "      <td>0</td>\n",
       "      <td>4</td>\n",
       "      <td></td>\n",
       "      <td>...</td>\n",
       "      <td>2</td>\n",
       "      <td>1</td>\n",
       "      <td></td>\n",
       "      <td>2</td>\n",
       "      <td>1</td>\n",
       "      <td>1</td>\n",
       "      <td></td>\n",
       "      <td>2</td>\n",
       "      <td>2</td>\n",
       "      <td>3</td>\n",
       "    </tr>\n",
       "  </tbody>\n",
       "</table>\n",
       "<p>5 rows × 94 columns</p>\n",
       "</div>"
      ],
      "text/plain": [
       "   sampno  gender  employment  student  education drive_freq  transit_freq  \\\n",
       "0  190001       1           4        4          6          3             0   \n",
       "1  190003       2           4        4          8          1             0   \n",
       "2  190002       2           4        4          1                        0   \n",
       "3  190005       1           4        4          6          2             0   \n",
       "4  190002       1           1        4          2          1             0   \n",
       "\n",
       "   tnc_freq job_type work_mode  ... autonomous_att_8 autonomous_hhveh  \\\n",
       "0         0                     ...                4                2   \n",
       "1         0                     ...                1                3   \n",
       "2         0                     ...                2                1   \n",
       "3         0                     ...                3                2   \n",
       "4         0        4            ...                2                1   \n",
       "\n",
       "  autonomous_rideshare autonomous_pooled  autonomous_pref  housing  \\\n",
       "0                    2                 1                1        2   \n",
       "1                    1                 4                1        1   \n",
       "2                                      2                1        1   \n",
       "3                    2                 3                2        1   \n",
       "4                                      2                1        1   \n",
       "\n",
       "   housing_1_8_x  solar  solar_future  income  \n",
       "0                     2             2       6  \n",
       "1                     2             2       5  \n",
       "2                     2             2       3  \n",
       "3                     2             2       7  \n",
       "4                     2             2       3  \n",
       "\n",
       "[5 rows x 94 columns]"
      ]
     },
     "execution_count": 7,
     "metadata": {},
     "output_type": "execute_result"
    }
   ],
   "source": [
    "query=\"select * from ml_input\"\n",
    "\n",
    "ml_input_df=sqlio.read_sql_query(query,conn)\n",
    "\n",
    "ml_input_df.head()"
   ]
  },
  {
   "cell_type": "code",
   "execution_count": 11,
   "metadata": {},
   "outputs": [
    {
     "data": {
      "text/plain": [
       "Index(['drive_freq', 'job_type', 'work_mode', 'work_distance', 'work_days',\n",
       "       'school_mode', 'school_distance', 'hybrid_experience', 'past_hybrid',\n",
       "       'phev_experience', 'past_phev', 'bev_experience', 'past_bev',\n",
       "       'fcv_experience', 'past_fcv', 'charge_spots', 'charge_work',\n",
       "       'home_parking_1', 'home_parking_2', 'home_parking_3', 'home_parking_4',\n",
       "       'home_parking_5', 'home_parking_6', 'home_parking_7', 'home_parking_8',\n",
       "       'home_parking_9', 'home_parking_8_x', 'home_electricity_access',\n",
       "       'hsa_distance_1_1_x', 'hsa_distance_1_2_x', 'future_purchase',\n",
       "       'next_purchase', 'purchase_timing', 'mode_freq_1', 'mode_freq_2',\n",
       "       'mode_freq_3', 'mode_freq_4', 'mode_freq_5', 'mode_freq_6',\n",
       "       'mode_freq_7', 'mode_freq_8', 'mode_freq_9', 'mode_freq_10',\n",
       "       'mode_freq_11', 'mode_freq_12', 'autonomous_rideshare', 'housing_1_8_x',\n",
       "       'solar_future'],\n",
       "      dtype='object')"
      ]
     },
     "execution_count": 11,
     "metadata": {},
     "output_type": "execute_result"
    }
   ],
   "source": [
    "# ml_input_df.select_dtypes(exclude='int64').columns"
   ]
  },
  {
   "cell_type": "code",
   "execution_count": 13,
   "metadata": {},
   "outputs": [
    {
     "data": {
      "text/plain": [
       "Index(['sampno', 'gender', 'employment', 'student', 'education', 'drive_freq',\n",
       "       'transit_freq', 'tnc_freq', 'job_type', 'work_mode', 'work_distance',\n",
       "       'work_days', 'school_mode', 'school_distance', 'age_grp', 'california',\n",
       "       'county', 'region', 'future_decision_role', 'num_hh_vehicles',\n",
       "       'household_members_1', 'household_members_2', 'household_members_3',\n",
       "       'household_members_4', 'tot_hh_members', 'hybrid_experience',\n",
       "       'past_hybrid', 'phev_experience', 'past_phev', 'bev_experience',\n",
       "       'past_bev', 'fcv_experience', 'past_fcv', 'charge_spots', 'charge_work',\n",
       "       'home_parking_1', 'home_parking_2', 'home_parking_3', 'home_parking_4',\n",
       "       'home_parking_5', 'home_parking_6', 'home_parking_7', 'home_parking_8',\n",
       "       'home_parking_9', 'home_parking_8_x', 'home_electricity_access',\n",
       "       'hydrogen_station_awareness', 'hsa_distance_1_1_x',\n",
       "       'hsa_distance_1_2_x', 'future_purchase', 'next_purchase',\n",
       "       'purchase_timing', 'modes_used_1', 'modes_used_2', 'modes_used_3',\n",
       "       'modes_used_4', 'modes_used_5', 'modes_used_6', 'modes_used_7',\n",
       "       'modes_used_8', 'modes_used_9', 'modes_used_10', 'modes_used_11',\n",
       "       'modes_used_12', 'mode_freq_1', 'mode_freq_2', 'mode_freq_3',\n",
       "       'mode_freq_4', 'mode_freq_5', 'mode_freq_6', 'mode_freq_7',\n",
       "       'mode_freq_8', 'mode_freq_9', 'mode_freq_10', 'mode_freq_11',\n",
       "       'mode_freq_12', 'autonomous_aware', 'autonomous_att_1',\n",
       "       'autonomous_att_2', 'autonomous_att_3', 'autonomous_att_4',\n",
       "       'autonomous_att_5', 'autonomous_att_6', 'autonomous_att_7',\n",
       "       'autonomous_att_8', 'autonomous_hhveh', 'autonomous_rideshare',\n",
       "       'autonomous_pooled', 'autonomous_pref', 'housing', 'housing_1_8_x',\n",
       "       'solar', 'solar_future', 'income'],\n",
       "      dtype='object')"
      ]
     },
     "execution_count": 13,
     "metadata": {},
     "output_type": "execute_result"
    }
   ],
   "source": [
    "# ml_input_df.columns"
   ]
  },
  {
   "cell_type": "markdown",
   "metadata": {},
   "source": [
    "## Clean Data"
   ]
  },
  {
   "cell_type": "markdown",
   "metadata": {},
   "source": [
    "## Split Data into Training and Testing"
   ]
  },
  {
   "cell_type": "code",
   "execution_count": null,
   "metadata": {},
   "outputs": [],
   "source": [
    "X=ml_input.drop(columns='ev_flag', axis='columns')\n",
    "y=ml_input['ev_flag']\n",
    "\n",
    "X.describe()"
   ]
  },
  {
   "cell_type": "code",
   "execution_count": null,
   "metadata": {},
   "outputs": [],
   "source": [
    "from sklearn.model_selection import train_test_split\n",
    "X_train, X_test, y_train, y_test = train_test_split(X,y,random_state=1)"
   ]
  },
  {
   "cell_type": "code",
   "execution_count": null,
   "metadata": {},
   "outputs": [],
   "source": [
    "# Resample the training data with the BalancedRandomForestClassifier\n",
    "from imblearn.ensemble import BalancedRandomForestClassifier\n",
    "brf = BalancedRandomForestClassifier(random_state=1)\n",
    "brf.fit(X_train, y_train)"
   ]
  },
  {
   "cell_type": "code",
   "execution_count": null,
   "metadata": {},
   "outputs": [],
   "source": [
    "# Calculated the balanced accuracy score\n",
    "y_pred = brf.predict(X_test)\n",
    "balanced_accuracy_score(y_test, y_pred)"
   ]
  },
  {
   "cell_type": "code",
   "execution_count": null,
   "metadata": {},
   "outputs": [],
   "source": [
    "# Display the confusion matrix\n",
    "confusion_matrix(y_test, y_pred)"
   ]
  },
  {
   "cell_type": "code",
   "execution_count": null,
   "metadata": {},
   "outputs": [],
   "source": [
    "# Print the imbalanced classification report\n",
    "print(classification_report_imbalanced(y_test, y_pred))"
   ]
  },
  {
   "cell_type": "code",
   "execution_count": null,
   "metadata": {},
   "outputs": [],
   "source": [
    "# List the features sorted in descending order by feature importance\n",
    "importances = brf.feature_importances_\n",
    "dict(zip(X.columns,sorted(importances,reverse=True)))"
   ]
  }
 ],
 "metadata": {
  "kernelspec": {
   "display_name": "PythonData",
   "language": "python",
   "name": "pythondata"
  },
  "language_info": {
   "codemirror_mode": {
    "name": "ipython",
    "version": 3
   },
   "file_extension": ".py",
   "mimetype": "text/x-python",
   "name": "python",
   "nbconvert_exporter": "python",
   "pygments_lexer": "ipython3",
   "version": "3.7.9"
  }
 },
 "nbformat": 4,
 "nbformat_minor": 4
}
