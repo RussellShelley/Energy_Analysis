{
 "cells": [
  {
   "cell_type": "code",
   "execution_count": 1,
   "metadata": {},
   "outputs": [],
   "source": [
    "import pandas as pd\n",
    "from configparser import ConfigParser\n",
    "import psycopg2\n",
    "import pandas.io.sql as sqlio\n",
    "from sqlalchemy import create_engine\n",
    "import numpy as np\n",
    "import matplotlib.pyplot as plt\n",
    "from sklearn import tree\n",
    "from sklearn.linear_model import LinearRegression\n",
    "from sklearn.preprocessing import StandardScaler,OneHotEncoder\n",
    "from sklearn.ensemble import RandomForestClassifier\n",
    "from sklearn.tree import DecisionTreeClassifier\n",
    "from sklearn.metrics import confusion_matrix, accuracy_score, classification_report\n",
    "import seaborn as sns\n",
    "from matplotlib import pyplot\n",
    "%matplotlib inline\n",
    "sns.set()"
   ]
  },
  {
   "cell_type": "code",
   "execution_count": 2,
   "metadata": {},
   "outputs": [],
   "source": [
    "password = \"postgres\""
   ]
  },
  {
   "cell_type": "code",
   "execution_count": 3,
   "metadata": {},
   "outputs": [
    {
     "name": "stdout",
     "output_type": "stream",
     "text": [
      "Connecting to the PostgreSQL database...\n",
      "Connection successful\n"
     ]
    }
   ],
   "source": [
    "\n",
    "param_dic={\n",
    "    \"host\": \"energy-analysis.cfcrgd6zjkoj.us-east-2.rds.amazonaws.com\",\n",
    "    \"database\": \"Energy_Analysis\",\n",
    "    \"user\" : \"postgres\",\n",
    "    \"password\" : password\n",
    "}\n",
    "\n",
    "def connect(params_dic):\n",
    "    \"\"\" Connect to the PostgreSQL database server \"\"\"\n",
    "    conn = None\n",
    "    try:\n",
    "        # connect to the PostgreSQL server\n",
    "        print('Connecting to the PostgreSQL database...')\n",
    "        conn = psycopg2.connect(**params_dic)\n",
    "    except (Exception, psycopg2.DatabaseError) as error:\n",
    "        print(error)\n",
    "        sys.exit(1) \n",
    "    print(\"Connection successful\")\n",
    "    return conn\n",
    "\n",
    "conn = connect(param_dic)"
   ]
  },
  {
   "cell_type": "code",
   "execution_count": null,
   "metadata": {},
   "outputs": [],
   "source": [
    "query=\"select * from ml_input\"\n",
    "\n",
    "ml_input_df=sqlio.read_sql_query(query,conn)\n",
    "\n",
    "ml_input_df.head()"
   ]
  },
  {
   "cell_type": "code",
   "execution_count": null,
   "metadata": {},
   "outputs": [],
   "source": [
    "ml_input_df[\"ev_flag\"].value_counts()"
   ]
  },
  {
   "cell_type": "code",
   "execution_count": null,
   "metadata": {},
   "outputs": [],
   "source": [
    "query=\"select * from tbl_main\"\n",
    "\n",
    "main_df=sqlio.read_sql_query(query,conn)\n",
    "\n",
    "main_df.head()"
   ]
  },
  {
   "cell_type": "code",
   "execution_count": null,
   "metadata": {},
   "outputs": [],
   "source": [
    "query=\"select * from tbl_person\"\n",
    "\n",
    "person_df=sqlio.read_sql_query(query,conn)\n",
    "\n",
    "person_df.head()"
   ]
  },
  {
   "cell_type": "code",
   "execution_count": null,
   "metadata": {},
   "outputs": [],
   "source": [
    "query=\"select * from tbl_PEV\"\n",
    "\n",
    "pev_df=sqlio.read_sql_query(query,conn)\n",
    "\n",
    "pev_df.head()"
   ]
  },
  {
   "cell_type": "code",
   "execution_count": null,
   "metadata": {},
   "outputs": [],
   "source": [
    "#Get the individual respondents\n",
    "respondent_df = person_df.loc[person_df[\"relationship\"]==8]\n",
    "respondent_df"
   ]
  },
  {
   "cell_type": "code",
   "execution_count": null,
   "metadata": {},
   "outputs": [],
   "source": [
    "#Merge respondents with Main table\n",
    "respondent_merged_df = main_df.merge(respondent_df, how='left', on='sampno') \n",
    "respondent_merged_df"
   ]
  },
  {
   "cell_type": "code",
   "execution_count": null,
   "metadata": {},
   "outputs": [],
   "source": [
    "#Get list of all PEV owners\n",
    "PEV_owners=pev_df.sampno \n",
    "PEV_owners.tolist()\n",
    "len(PEV_owners)\n"
   ]
  },
  {
   "cell_type": "code",
   "execution_count": null,
   "metadata": {},
   "outputs": [],
   "source": [
    "#Create PEV owner column, populate from list\n",
    "respondent_merged_df[\"PEV owner\"] = \"No\"\n",
    "for owner in PEV_owners:\n",
    "    respondent_merged_df.loc[respondent_merged_df.sampno == owner,'PEV owner'] = \"Yes\""
   ]
  },
  {
   "cell_type": "code",
   "execution_count": null,
   "metadata": {},
   "outputs": [],
   "source": [
    "#Create new 'Genders' column with 3 labels.\n",
    "respondent_merged_df[\"Genders\"] =respondent_merged_df[\"\"] = \"Other\"\n",
    "respondent_merged_df.loc[respondent_merged_df.gender == 1,'Genders'] = \"Male\"\n",
    "respondent_merged_df.loc[respondent_merged_df.gender == 2,'Genders'] = \"Female\""
   ]
  },
  {
   "cell_type": "code",
   "execution_count": null,
   "metadata": {},
   "outputs": [],
   "source": [
    "#Seperate df for PEV's and non PEVS (In case we want'em)\n",
    "owner_merged_df =respondent_merged_df.loc[respondent_merged_df['PEV owner'] == \"Yes\"]\n",
    "owner_merged_df"
   ]
  },
  {
   "cell_type": "code",
   "execution_count": null,
   "metadata": {},
   "outputs": [],
   "source": [
    "nonowner_merged_df =respondent_merged_df.loc[respondent_merged_df['PEV owner'] == \"No\"]\n",
    "nonowner_merged_df"
   ]
  },
  {
   "cell_type": "code",
   "execution_count": null,
   "metadata": {},
   "outputs": [],
   "source": [
    "#Create Donut of owners v Non-owners\n",
    "fig, ax = plt.subplots(1,figsize=(10,10)) #ax1,ax2 refer to your two pies\n",
    "labels = [\"No EV vehicle\",\"EV owner\"]\n",
    "values =(respondent_merged_df['PEV owner'].value_counts())\n",
    "#colors\n",
    "colors = [\"#de8f05\", \"#0173b2\"]\n",
    "#explsion\n",
    "explode = (0.0,0.0,0.00)\n",
    " \n",
    "ax.pie(values, colors = colors,wedgeprops={'alpha':0.6}, autopct='%1.1f%%', startangle=90, pctdistance=0.85)\n",
    "ax.set_title('Survey Respondents EV Vehicle Ownership.', fontsize=18)\n",
    "#draw circle\n",
    "centre_circle = plt.Circle((0,0),0.70,fc='white')\n",
    "fig = plt.gcf()\n",
    "fig.gca().add_artist(centre_circle)\n",
    "# Equal aspect ratio ensures that pie is drawn as a circle\n",
    "#ax.axis('equal')  \n",
    "ax.legend(labels,bbox_to_anchor=(1, 1),borderpad=2,labelspacing=1.5,prop={\"size\":15})\n",
    "plt.tight_layout()\n",
    "plt.show()"
   ]
  },
  {
   "cell_type": "markdown",
   "metadata": {},
   "source": [
    "# Compare to populations (PEV/Non-PEV)\n"
   ]
  },
  {
   "cell_type": "code",
   "execution_count": null,
   "metadata": {},
   "outputs": [],
   "source": [
    "#EV owners by age donut\n",
    "# Pie chart\n",
    "fig, ax = plt.subplots(1,figsize=(10,10)) #ax1,ax2 refer to your two pies\n",
    "labels = [\"35 to 64 \",\"65 or older\",\"18 to 34\"]\n",
    "values =(owner_merged_df['age_grp'].value_counts())\n",
    "#colors\n",
    "colors = ['#de8f05','#0173b2','#cc78bc']\n",
    "#explsion\n",
    "explode = (0.0,0.0,0.00)\n",
    " \n",
    "ax.pie(values, colors = colors,wedgeprops={'alpha':0.6},autopct='%1.1f%%', startangle=90, pctdistance=0.85)\n",
    "ax.set_title('Surveyed EV Owners By Age Group', fontsize=18)\n",
    "#draw circle\n",
    "centre_circle = plt.Circle((0,0),0.70,fc='white')\n",
    "fig = plt.gcf()\n",
    "fig.gca().add_artist(centre_circle)\n",
    "# Equal aspect ratio ensures that pie is drawn as a circle\n",
    "#ax1.axis('equal')  \n",
    "ax.legend(labels,bbox_to_anchor=(1, 1),borderpad=2,labelspacing=1.5,prop={\"size\":15})\n",
    "plt.tight_layout()\n",
    "plt.show()"
   ]
  },
  {
   "cell_type": "code",
   "execution_count": null,
   "metadata": {
    "scrolled": true
   },
   "outputs": [],
   "source": [
    "fig, ax = plt.subplots(1,figsize=(10,10)) #ax1,ax2 refer to your two pies\n",
    "labels = [\"35 to 64 \",\"65 or older\",\"18 to 34\"]\n",
    "values =(nonowner_merged_df['age_grp'].value_counts())\n",
    "#colors\n",
    "colors = ['#de8f05','#0173b2','#cc78bc']\n",
    "#explsion\n",
    "explode = (0.0,0.0,0.00)\n",
    " \n",
    "ax.pie(values, colors = colors,wedgeprops={'alpha':0.6}, autopct='%1.1f%%', startangle=90, pctdistance=0.85)\n",
    "ax.set_title('Surveyed non-EV Owners By Age Group', fontsize=18)\n",
    "#draw circle\n",
    "centre_circle = plt.Circle((0,0),0.70,fc='white')\n",
    "fig = plt.gcf()\n",
    "fig.gca().add_artist(centre_circle)\n",
    "# Equal aspect ratio ensures that pie is drawn as a circle\n",
    "#ax1.axis('equal')  \n",
    "ax.legend(labels,bbox_to_anchor=(1, 1),borderpad=2,labelspacing=1.5,prop={\"size\":15})\n",
    "plt.tight_layout()\n",
    "plt.show()"
   ]
  },
  {
   "cell_type": "code",
   "execution_count": null,
   "metadata": {},
   "outputs": [],
   "source": [
    "# Draw a nested barplot income /owner\n",
    "\n",
    "colors = [\"#de8f05\", \"#0173b2\"]\n",
    "# Set your custom color palette\n",
    "customPalette = sns.set_palette(sns.color_palette(colors))\n",
    "g = sns.countplot(\n",
    "    data=respondent_merged_df, \n",
    "    x=\"income\", hue= \"PEV owner\", palette = customPalette,\n",
    "      alpha=0.6,\n",
    ")\n",
    "g.set_xticklabels([\"less than $10\",\n",
    "\"$10 - $25\",\n",
    "\"$25 - $35\",\n",
    "\"$35 - $50\",\n",
    "\"$50 - $75\",\n",
    "\"$75 - $100\",\n",
    "\"$100 - $150\",\n",
    "\"$150 - $200\",\n",
    "\"$200 - $250\",\n",
    "\"$250 or more\",\n",
    "\"Prefer not to answer\"],rotation=90)\n",
    "\n",
    "#g.despine(left=True)\n",
    "g.set(xlabel=\"Annual Income ($k)\", ylabel = \"\")\n",
    "g.set_yscale(\"log\")\n",
    "plt.legend(bbox_to_anchor=(1.05, 1), loc=2, borderaxespad=0.).set_title(\"EV Owner\")\n",
    "#g.set_axis_labels(\"Annual Income($k)\", \" \")\n",
    "#g.legend.set_title(\"\")"
   ]
  },
  {
   "cell_type": "code",
   "execution_count": null,
   "metadata": {},
   "outputs": [],
   "source": [
    "#Drop \"prefer not to say\"\n",
    "df_income_declared = respondent_merged_df[respondent_merged_df['income'] != 11]"
   ]
  },
  {
   "cell_type": "code",
   "execution_count": null,
   "metadata": {},
   "outputs": [],
   "source": [
    "# Income / PEV owner box plot?\n",
    "colors = [\"#de8f05\", \"#0173b2\"]\n",
    "# Set your custom color palette\n",
    "customPalette = sns.set_palette(sns.color_palette(colors))\n",
    "\n",
    "#Income /PEV non-PEV\n",
    "g= sns.catplot(x=\"PEV owner\", y=\"income\", kind=\"box\",palette=customPalette,boxprops=dict(alpha=.8), data=df_income_declared)\n",
    "g.set_yticklabels([\"\",\n",
    "\"$10-$25 \",\n",
    "\n",
    "\"$35 - $50\",\n",
    "\n",
    "\"$75 - $100\",\n",
    "\n",
    "\"$150 - $200\",\n",
    "\n",
    "\"250+\",\"\"\n",
    "])  \n",
    "g.set(ylabel = \"annual income ($k)\")"
   ]
  },
  {
   "cell_type": "code",
   "execution_count": null,
   "metadata": {},
   "outputs": [],
   "source": [
    "#Income/Age/ownership violin\n",
    "\n",
    "colors = [\"#de8f05\", \"#0173b2\"]\n",
    "# Set your custom color palette\n",
    "customPalette = sns.set_palette(sns.color_palette(colors))\n",
    "\n",
    "g=sns.catplot(x=\"age_grp\", y=\"income\", hue=\"PEV owner\",\n",
    "            kind=\"violin\",inner=\"stick\",split=True, palette=customPalette,violinprops=dict(alpha=.2),  data=df_income_declared)\n",
    "plt.setp(ax.collections, alpha=.6)\n",
    "g.set_xticklabels(['18-34','35-64','65+'])\n",
    "g.set(xlabel=\"Age Group\", ylabel = \"annual income($k)\")\n",
    "g.set_yticklabels([\"\",\"\",\n",
    "\"$10 - $25\",\n",
    "\n",
    "\n",
    "\"$35 - $50\",\n",
    "\n",
    "\"$75 - $100\",\n",
    "\n",
    "\"$150 - $200\",\n",
    "\n",
    "\"250+\",\"\",\"\"])\n"
   ]
  },
  {
   "cell_type": "code",
   "execution_count": null,
   "metadata": {},
   "outputs": [],
   "source": [
    "#Education /ownership.\n",
    "colors = [\"#de8f05\",\"#0173b2\"]\n",
    "customPalette = sns.set_palette(sns.color_palette(colors))\n",
    "# Set your custom color palette\n",
    "\n",
    "g=sns.countplot(\n",
    "    data=respondent_merged_df, \n",
    "    x=\"education\",hue=\"PEV owner\",\n",
    "     alpha=0.6\n",
    ")\n",
    "g.set_xticklabels([\"Less than high school\",\n",
    "                   \"High school graduate\",\"Tech school\",\n",
    "\"Some college\",\"Associate degree)\",\n",
    "\"College graduate\",\n",
    "\"Post-graduate work\",\n",
    "\"Post-graduate degree\"],rotation=90)\n",
    "g.set_yscale(\"log\")\n",
    "plt.legend(bbox_to_anchor=(1.05, 1), loc=2, borderaxespad=0.).set_title(\"EV Owner\")\n",
    "#g.set_title(\"Education level\")\n",
    "g.set(xlabel=\"\", ylabel = \"Respondents(log)\")"
   ]
  },
  {
   "cell_type": "code",
   "execution_count": null,
   "metadata": {},
   "outputs": [],
   "source": [
    "#Age Bar chart\n",
    "colors = [\"#de8f05\", \"#0173b2\"]\n",
    "customPalette = sns.set_palette(sns.color_palette(colors))\n",
    "g=sns.countplot(\n",
    "    data=respondent_merged_df, \n",
    "    x=\"age_grp\", hue= \"PEV owner\",\n",
    "    palette=customPalette, alpha=.6,\n",
    ")\n",
    "g.set_xticklabels([\"18 to 34\", \"35 to 64\", \"65 or older\"])\n",
    "g.set_yscale(\"log\")\n",
    "g.set(xlabel=\"Age Group\", ylabel = \"\")"
   ]
  },
  {
   "cell_type": "code",
   "execution_count": null,
   "metadata": {},
   "outputs": [],
   "source": [
    "colors = [\"#de8f05\", \"#0173b2\"]\n",
    "# Set your custom color palette\n",
    "customPalette = sns.set_palette(sns.color_palette(colors))\n",
    "g=sns.countplot(\n",
    "    data=respondent_merged_df, \n",
    "    x=\"Genders\", hue= \"PEV owner\",\n",
    "    palette=customPalette, alpha=.6,\n",
    ")\n",
    "#g.set_xticklabels([\"18 to 34\", \"35 to 64\", \"65 or older\"])\n",
    "g.set(xlabel=\"\", ylabel = \"\")\n",
    "g.set_yscale(\"log\")"
   ]
  },
  {
   "cell_type": "code",
   "execution_count": null,
   "metadata": {},
   "outputs": [],
   "source": [
    "colors = [\"#de8f05\", \"#0173b2\"]\n",
    "\n",
    "\n",
    "\n",
    "\n",
    "# Set your custom color palette\n",
    "customPalette = sns.set_palette(sns.color_palette(colors))\n",
    "g=sns.catplot(x=\"education\", y=\"income\", hue=\"PEV owner\",\n",
    "            kind=\"box\",palette=customPalette,boxprops=dict(alpha=.8), data=df_income_declared)\n",
    "g.set_xticklabels([\"Less than high school\",\n",
    "                   \"High school graduate\",\"Tech school\",\n",
    "\"Some college\",\"Associate degree)\",\n",
    "\"College graduate\",\n",
    "\"Post-graduate work\",\n",
    "\"Post-graduate degree\"],rotation=90)\n",
    "g.set_yticklabels([\"\",\n",
    "\"$10 - $25\",\n",
    "\"$35 - $50\",\n",
    "\"$75 - $100\",\n",
    "\"$150 - $200\",\n",
    "\"$250+\",\"\"\n",
    "])\n",
    "g.set(ylabel=\"Annual Income ($k)\", xlabel = \"Education\")"
   ]
  },
  {
   "cell_type": "code",
   "execution_count": null,
   "metadata": {},
   "outputs": [],
   "source": [
    "#Got Solar?\n",
    "g=sns.countplot(\n",
    "    data=respondent_merged_df, \n",
    "    x=\"solar\", hue= \"PEV owner\",\n",
    "    palette=\"dark\", alpha=.6,\n",
    ")\n",
    "g.set_xticklabels([\"yes\", \"no\"])\n",
    "g.set(xlabel=\"Solar\", ylabel = \"\")\n",
    "#g.set_yscale(\"log\")"
   ]
  },
  {
   "cell_type": "code",
   "execution_count": null,
   "metadata": {},
   "outputs": [],
   "source": [
    "# 'autonomous_hhveh' autonomous adoption.\n",
    "#1.We would be one of the first to buy a self-driving vehicle (either as a replacement or additional household vehicle)\n",
    "#2.We would eventually buy a self-driving vehicle, but only after they are in common use\n",
    "#3.We would wait as long as possible and try to avoid ever buying a self-driving vehicle\n",
    "colors = [\"#de8f05\", \"#0173b2\"]\n",
    "# Set your custom color palette\n",
    "customPalette = sns.set_palette(sns.color_palette(colors))\n",
    "g=sns.countplot(\n",
    "    data=respondent_merged_df, \n",
    "    x='autonomous_hhveh', hue= \"PEV owner\",\n",
    "    palette=customPalette, alpha=.6,\n",
    ")\n",
    "g.set_xticklabels([\"We'd be one of the first !\", \"We would eventually\", \"We'd wait as long as possible!\"],rotation=90)\n",
    "g.set(xlabel=\"\", ylabel = \"\")\n",
    "#g.set_yscale(\"log\")"
   ]
  },
  {
   "cell_type": "code",
   "execution_count": null,
   "metadata": {},
   "outputs": [],
   "source": [
    "#Print palette hex codes.\n",
    "pal = sns.color_palette(\"colorblind\")\n",
    "print(pal.as_hex())"
   ]
  },
  {
   "cell_type": "code",
   "execution_count": null,
   "metadata": {},
   "outputs": [],
   "source": [
    "#Gender age income central tendency (Drop no response income)\n",
    "colors = [\"#de8f05\", \"#0173b2\"]\n",
    "customPalette = sns.set_palette(sns.color_palette(colors))\n",
    "data = respondent_merged_df.loc[respondent_merged_df.income != 11]\n",
    "g = sns.catplot( x=\"Genders\", y=\"income\",\n",
    "                hue=\"PEV owner\", col=\"age_grp\",\n",
    "                data=data, kind=\"bar\", alpha= 0.6,\n",
    "                height=4, aspect=.7);"
   ]
  },
  {
   "cell_type": "code",
   "execution_count": null,
   "metadata": {},
   "outputs": [],
   "source": []
  },
  {
   "cell_type": "code",
   "execution_count": null,
   "metadata": {},
   "outputs": [],
   "source": [
    "#Dual-y axis education/ownership\n",
    "#colors = [\"#de8f05\", \"#0173b2\"]\n",
    "df_n=respondent_merged_df.loc[respondent_merged_df[\"PEV owner\"]==\"No\"]\n",
    "df_y=respondent_merged_df.loc[respondent_merged_df[\"PEV owner\"]==\"Yes\"]\n",
    "no_counts = df_n[\"education\"].value_counts().sort_index()\n",
    "yes_counts =df_y[\"education\"].value_counts().sort_index()\n",
    "\n",
    "fig = plt.figure() # Create matplotlib figure\n",
    "ax = fig.add_subplot(111) # Create axes\n",
    "ax2 = ax.twinx() # Create another axes that shares the same x-axis as ax.\n",
    "\n",
    "width = 0.4\n",
    "no_counts.plot(kind='bar', color=\"#de8f05\",alpha=0.6, ax=ax, width=width,position=1)\n",
    "yes_counts.plot(kind='bar', color=\"#0173b2\",alpha=0.6, ax=ax2, width=width, position=0)\n",
    "ax.grid(False) \n",
    "ax2.grid(False)\n",
    "ax.set_ylabel('Non-PEV owners',color=\"#de8f05\")\n",
    "ax2.set_ylabel('PEV owners',color=\"#0173b2\")\n",
    "\n",
    "ax.set_xticklabels([\"Less than high school\",\n",
    "                   \"High school graduate\",\"Tech school\",\n",
    "\"Some college\",\"Associate degree)\",\n",
    "\"College graduate\",\n",
    "\"Post-graduate work\",\n",
    "\"Post-graduate degree\"],rotation=90)\n",
    "plt.xlim([-.5,7.5])\n",
    "plt.show()"
   ]
  },
  {
   "cell_type": "code",
   "execution_count": null,
   "metadata": {},
   "outputs": [],
   "source": [
    "no_counts"
   ]
  },
  {
   "cell_type": "code",
   "execution_count": null,
   "metadata": {
    "scrolled": true
   },
   "outputs": [],
   "source": [
    "#Dual-y axis gender/ownership\n",
    "#colors = [\"#de8f05\", \"#0173b2\"]\n",
    "df_n=respondent_merged_df.loc[respondent_merged_df[\"PEV owner\"]==\"No\"]\n",
    "df_y=respondent_merged_df.loc[respondent_merged_df[\"PEV owner\"]==\"Yes\"]\n",
    "no_counts_inc = df_n[\"income\"].value_counts().sort_index()\n",
    "yes_counts_inc =df_y[\"income\"].value_counts().sort_index()\n",
    "\n",
    "d={1:0}# make empty dic. for missing value\n",
    "fixed_inc_count=pd.Series(d).append(yes_counts_inc)# add dict. to series\n",
    "\n",
    "fig = plt.figure() # Create matplotlib figure\n",
    "ax = fig.add_subplot(111) # Create axes\n",
    "ax2 = ax.twinx() # Create another axes that shares the same x-axis as ax.\n",
    "\n",
    "width = 0.4\n",
    "no_counts_inc.plot(kind='bar', color=\"#de8f05\",alpha=0.6, ax=ax, width=width,position=1)\n",
    "fixed_inc_count.plot(kind='bar', color=\"#0173b2\",alpha=0.6, ax=ax2, width=width, position=0)\n",
    "ax.grid(False) \n",
    "ax2.grid(False)\n",
    "ax.set_ylabel('Non-PEV owners',color=\"#de8f05\")\n",
    "ax2.set_ylabel('PEV owners',color=\"#0173b2\")\n",
    "ax.set_xlabel(\"Income($k)\")\n",
    "ax.set_xticklabels([\"less than $10\",\n",
    "\"$10 - $25\",\n",
    "\"$25 - $35\",\n",
    "\"$35 - $50\",\n",
    "\"$50 - $75\",\n",
    "\"$75 - $100\",\n",
    "\"$100 - $150\",\n",
    "\"$150 - $200\",\n",
    "\"$200 - $250\",\n",
    "\"$250 or more\",\n",
    "\"Prefer not to answer\"],rotation=90)\n",
    "plt.xlim([-.5,10.5])\n",
    "plt.show()"
   ]
  },
  {
   "cell_type": "code",
   "execution_count": null,
   "metadata": {},
   "outputs": [],
   "source": [
    "#Dual-y axis education/ownership\n",
    "#colors = [\"#de8f05\", \"#0173b2\"]\n",
    "df_n=respondent_merged_df.loc[respondent_merged_df[\"PEV owner\"]==\"No\"]\n",
    "df_y=respondent_merged_df.loc[respondent_merged_df[\"PEV owner\"]==\"Yes\"]\n",
    "no_counts = df_n[\"Genders\"].value_counts().sort_index()\n",
    "yes_counts =df_y[\"Genders\"].value_counts().sort_index()\n",
    "\n",
    "fig = plt.figure() # Create matplotlib figure\n",
    "ax = fig.add_subplot(111) # Create axes\n",
    "ax2 = ax.twinx() # Create another axes that shares the same x-axis as ax.\n",
    "\n",
    "width = .4\n",
    "no_counts.plot(kind='bar', color=\"#de8f05\",alpha=0.6, ax=ax, width=width,position=1,align='center')\n",
    "yes_counts.plot(kind='bar', color=\"#0173b2\",alpha=0.6, ax=ax2, width=width, position=0,align='center')\n",
    "ax.grid() \n",
    "ax2.grid()\n",
    "ax.set_ylabel('Non-PEV owners',color=\"#de8f05\")\n",
    "ax2.set_ylabel('PEV owners',color=\"#0173b2\")\n",
    "plt.xlim([-.5,2.5])\n",
    "ax.set_xticklabels([\"Female\",\"Male\",\"Other\"],rotation=0)\n",
    "plt.show()"
   ]
  },
  {
   "cell_type": "code",
   "execution_count": null,
   "metadata": {},
   "outputs": [],
   "source": [
    "no_counts"
   ]
  },
  {
   "cell_type": "code",
   "execution_count": null,
   "metadata": {},
   "outputs": [],
   "source": [
    "df_n=respondent_merged_df.loc[respondent_merged_df[\"PEV owner\"]==\"No\"]\n",
    "df_y=respondent_merged_df.loc[respondent_merged_df[\"PEV owner\"]==\"Yes\"]\n",
    "no_counts_hhveh = df_n[\"autonomous_hhveh\"].value_counts().sort_index()\n",
    "yes_counts_hhveh =df_y[\"autonomous_hhveh\"].value_counts().sort_index()\n",
    "\n",
    "fig = plt.figure() # Create matplotlib figure\n",
    "ax = fig.add_subplot(111) # Create axes\n",
    "ax2 = ax.twinx() # Create another axes that shares the same x-axis as ax.\n",
    "\n",
    "width = 0.4\n",
    "no_counts_hhveh.plot(kind='bar', color=\"#de8f05\",alpha=0.6, ax=ax, width=width,position=1)\n",
    "yes_counts_hhveh.plot(kind='bar', color=\"#0173b2\",alpha=0.6, ax=ax2, width=width, position=0)\n",
    "ax.grid() \n",
    "ax2.grid()\n",
    "ax.set_ylabel('Non-PEV owners',color=\"#de8f05\")\n",
    "ax2.set_ylabel('PEV owners',color=\"#0173b2\")\n",
    "ax.set_xlabel(\"\")\n",
    "ax.set_xticklabels([\"We'd be one of the first !\", \"We would eventually\", \"We'd wait as long as possible!\"],rotation=90)\n",
    "plt.xlim([-.5,2.5])\n",
    "#plt.grid(axis = 'y')\n",
    "\n",
    "sns.set_style(\"whitegrid\")\n",
    "\n",
    "plt.show()"
   ]
  }
 ],
 "metadata": {
  "kernelspec": {
   "display_name": "PythonData",
   "language": "python",
   "name": "pythondata"
  },
  "language_info": {
   "codemirror_mode": {
    "name": "ipython",
    "version": 3
   },
   "file_extension": ".py",
   "mimetype": "text/x-python",
   "name": "python",
   "nbconvert_exporter": "python",
   "pygments_lexer": "ipython3",
   "version": "3.7.9"
  }
 },
 "nbformat": 4,
 "nbformat_minor": 4
}
